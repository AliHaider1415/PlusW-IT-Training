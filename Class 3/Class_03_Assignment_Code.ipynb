{
  "nbformat": 4,
  "nbformat_minor": 0,
  "metadata": {
    "colab": {
      "provenance": []
    },
    "kernelspec": {
      "name": "python3",
      "display_name": "Python 3"
    },
    "language_info": {
      "name": "python"
    }
  },
  "cells": [
    {
      "cell_type": "markdown",
      "source": [
        "# Assignment 03 Code"
      ],
      "metadata": {
        "id": "o8Uoll0KlxKn"
      }
    },
    {
      "cell_type": "markdown",
      "source": [
        "# Task 01\n",
        "Implement a to-do list application where users can add,\n",
        "remove, and view tasks"
      ],
      "metadata": {
        "id": "UHEbFjA0hIY-"
      }
    },
    {
      "cell_type": "code",
      "execution_count": 6,
      "metadata": {
        "id": "6ZHjMTOifYGn"
      },
      "outputs": [],
      "source": [
        "tasks = [] # This list will store the tasks added by the user."
      ]
    },
    {
      "cell_type": "code",
      "source": [
        "def add_task(task):\n",
        "  tasks.append(task)\n",
        "\n",
        "def remove_task(task):\n",
        "  if task in tasks:   # Error was syntax of in_, it should be in\n",
        "    tasks.remove(task)\n",
        "\n",
        "def view_tasks():\n",
        "  for task in tasks:  # Error was missing colon (:)\n",
        "    print(task)"
      ],
      "metadata": {
        "id": "lG-zV-EZhQ0X"
      },
      "execution_count": 3,
      "outputs": []
    },
    {
      "cell_type": "code",
      "source": [
        "add_task(\"Finish homework\")\n",
        "add_task(\"Buy groceries\")\n",
        "print(\"Items before removing: \")\n",
        "view_tasks()\n",
        "remove_task(\"Buy groceries\")\n",
        "print(\"Items after removing: \")\n",
        "view_tasks()"
      ],
      "metadata": {
        "colab": {
          "base_uri": "https://localhost:8080/"
        },
        "id": "jsI4Twpvh5xI",
        "outputId": "f13c49fc-604f-4559-f98a-fc1e9a686d87"
      },
      "execution_count": 7,
      "outputs": [
        {
          "output_type": "stream",
          "name": "stdout",
          "text": [
            "Items before removing: \n",
            "Finish homework\n",
            "Buy groceries\n",
            "Items after removing: \n",
            "Finish homework\n"
          ]
        }
      ]
    },
    {
      "cell_type": "markdown",
      "source": [
        "# Task 02\n",
        "Find Maximum and Minimum Values in a List"
      ],
      "metadata": {
        "id": "BabHOfweitWF"
      }
    },
    {
      "cell_type": "code",
      "source": [
        "def find_max_min(lst):\n",
        "  max_val = lst[0]\n",
        "  min_val = lst[0]\n",
        "\n",
        "  # Error was missing indentations\n",
        "  for num in lst:\n",
        "    if num > max_val:\n",
        "      max_val = num\n",
        "    if num < min_val:   # Error was missing colon (:)\n",
        "      min_val = num\n",
        "\n",
        "  return max_val, min_val\n"
      ],
      "metadata": {
        "id": "rLOYnG7Uiurt"
      },
      "execution_count": 9,
      "outputs": []
    },
    {
      "cell_type": "code",
      "source": [
        "numbers = [3, 9, 2, 8, 1]\n",
        "max_val, min_val = find_max_min(numbers)\n",
        "print(f\"Max: {max_val}, Min: {min_val}\")\n"
      ],
      "metadata": {
        "colab": {
          "base_uri": "https://localhost:8080/"
        },
        "id": "Iaf-BPTHjUEF",
        "outputId": "9dea2c69-1449-4501-cf17-2b922fabe619"
      },
      "execution_count": 10,
      "outputs": [
        {
          "output_type": "stream",
          "name": "stdout",
          "text": [
            "Max: 9, Min: 1\n"
          ]
        }
      ]
    },
    {
      "cell_type": "markdown",
      "source": [
        "# Task 03\n",
        "Create a Simple Phonebook Using Dictionaries"
      ],
      "metadata": {
        "id": "qaFVynwVjiwt"
      }
    },
    {
      "cell_type": "code",
      "source": [
        "phonebook = {}\n",
        "\n",
        "def add_contact(name, number):\n",
        "  phonebook[name] = number\n",
        "\n",
        "def get_number(name):\n",
        "  return phonebook.get(name, \"Contact not found\")\n"
      ],
      "metadata": {
        "id": "2KBFASu4jmWz"
      },
      "execution_count": 12,
      "outputs": []
    },
    {
      "cell_type": "code",
      "source": [
        "add_contact(\"Alice\", \"1234567890\")\n",
        "add_contact(\"Bob\", \"9876543210\")\n",
        "print(get_number(\"Alice\"))"
      ],
      "metadata": {
        "colab": {
          "base_uri": "https://localhost:8080/"
        },
        "id": "Hbbs3zhuj2ib",
        "outputId": "cd07446e-9f8e-49f7-fb5a-44188b49ac2c"
      },
      "execution_count": 13,
      "outputs": [
        {
          "output_type": "stream",
          "name": "stdout",
          "text": [
            "1234567890\n"
          ]
        }
      ]
    },
    {
      "cell_type": "code",
      "source": [],
      "metadata": {
        "id": "eDqCv8sBj3bJ"
      },
      "execution_count": null,
      "outputs": []
    },
    {
      "cell_type": "markdown",
      "source": [
        "# Task 04\n",
        "Inventory System (Using Dictionaries)\n"
      ],
      "metadata": {
        "id": "OSyu3B_tj7aK"
      }
    },
    {
      "cell_type": "code",
      "source": [
        "inventory = {}\n",
        "\n",
        "def add_item(item, quantity):\n",
        "# Check if the Item Exists in inventory and If the Item Does Not Exist, Add It\n",
        "  if item in inventory:\n",
        "    inventory[item] += quantity\n",
        "  else:\n",
        "    inventory[item] = quantity\n",
        "\n",
        "# Define a Function to Remove Items\n",
        "def remove_item(item, quantity):\n",
        "# Check If the Item Exists and Has Enough Quantity and Decrease the Quantity\n",
        "  if item in inventory and inventory[item] >= quantity:\n",
        "    inventory[item] -= quantity\n",
        "  # If the Quantity Becomes Zero, Remove the Item\n",
        "  if inventory[item] == 0:\n",
        "    del inventory[item]\n",
        "  else:\n",
        "    print(f\"Insufficient quantity of {item}.\")\n",
        "\n",
        "# Define a Function to View Inventory\n",
        "def view_inventory():\n",
        "# Loop Through the Inventory\n",
        "  for item, quantity in inventory.items():\n",
        "    print(f\"{item}: {quantity}\")\n"
      ],
      "metadata": {
        "id": "EFvFWZrjj9-X"
      },
      "execution_count": 14,
      "outputs": []
    },
    {
      "cell_type": "code",
      "source": [
        "add_item(\"Apple\", 10)\n",
        "add_item(\"Banana\", 5)\n",
        "remove_item(\"Apple\", 3)\n",
        "view_inventory()"
      ],
      "metadata": {
        "colab": {
          "base_uri": "https://localhost:8080/"
        },
        "id": "n30bATHtkl7A",
        "outputId": "fa0484ed-8830-4505-d1da-1b27d68e6dec"
      },
      "execution_count": 15,
      "outputs": [
        {
          "output_type": "stream",
          "name": "stdout",
          "text": [
            "Insufficient quantity of Apple.\n",
            "Apple: 7\n",
            "Banana: 5\n"
          ]
        }
      ]
    },
    {
      "cell_type": "markdown",
      "source": [
        "# Task 05\n",
        "ATM System Simulation with Global Variables\n"
      ],
      "metadata": {
        "id": "6Sb2x1__ktsN"
      }
    },
    {
      "cell_type": "code",
      "source": [
        "def deposit(balance, amount):\n",
        "  balance += amount\n",
        "  print(f\"Deposited: {amount}. New balance: {balance}\")\n",
        "  return balance # Return the updated balance\n",
        "\n",
        "def withdraw(balance, amount):\n",
        "  if amount <= balance:\n",
        "    balance -= amount\n",
        "    print(f\"Withdrew: {amount}. New balance: {balance}\")\n",
        "  else:\n",
        "    print(\"Insufficient funds\")\n",
        "    return balance # Return the updated balance\n",
        "\n",
        "def check_balance(balance):\n",
        "  print(\"Current balance: {balance}\")\n",
        "\n",
        "# Example usage\n",
        "balance = 1000 # Initial balance\n",
        "balance = deposit(balance, 500) # Deposit money\n",
        "balance = withdraw(balance, 200) # Withdraw money\n",
        "check_balance(balance) # Check balance"
      ],
      "metadata": {
        "colab": {
          "base_uri": "https://localhost:8080/"
        },
        "id": "jqn5SK7Skzsf",
        "outputId": "b1bba439-7e70-4ef3-e025-13dc8dcc088b"
      },
      "execution_count": 18,
      "outputs": [
        {
          "output_type": "stream",
          "name": "stdout",
          "text": [
            "Deposited: 500. New balance: 1500\n",
            "Withdrew: 200. New balance: 1300\n",
            "Current balance: {balance}\n"
          ]
        }
      ]
    },
    {
      "cell_type": "code",
      "source": [],
      "metadata": {
        "id": "pDbxlSmdlLr_"
      },
      "execution_count": null,
      "outputs": []
    }
  ]
}